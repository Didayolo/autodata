{
 "cells": [
  {
   "cell_type": "markdown",
   "metadata": {},
   "source": [
    "<center><h1>Data Generation Experiments</h1></center>\n",
    "\n",
    "<img src=\"logo_autodata.png\" alt=\"drawing\" width=\"200\"/>"
   ]
  },
  {
   "cell_type": "markdown",
   "metadata": {},
   "source": [
    "### Datasets\n",
    "\n",
    "* Description of the datasets\n",
    "\n",
    "### Metrics\n",
    "\n",
    "* Mainly \"adversarial scores\" with different discriminant models.\n",
    "* Do the different models agree on the discrepancy between distributions?\n",
    "* Can we rely on this kind of metric?\n",
    "\n",
    "### Generators\n",
    "\n",
    "* Which generators seems to have the best guarantees of similarity and privacy?"
   ]
  },
  {
   "cell_type": "code",
   "execution_count": 6,
   "metadata": {},
   "outputs": [],
   "source": [
    "# ignore warning for a more convenient display\n",
    "import warnings\n",
    "warnings.filterwarnings('ignore')"
   ]
  },
  {
   "cell_type": "code",
   "execution_count": 7,
   "metadata": {},
   "outputs": [],
   "source": [
    "import autopandas as apd\n",
    "import numpy as np\n",
    "from sklearn.neural_network import MLPClassifier\n",
    "from IPython.display import display\n",
    "%reload_ext autoreload\n",
    "%autoreload 2"
   ]
  },
  {
   "cell_type": "code",
   "execution_count": 8,
   "metadata": {},
   "outputs": [],
   "source": [
    "def load_dataset(input_file, test_file=None):\n",
    "    if test_file is None:\n",
    "        data = apd.read_csv(input_file)\n",
    "    else:\n",
    "        train = apd.read_csv(input_file)\n",
    "        test = apd.read_csv(test_file)\n",
    "        data = apd.from_train_test(train, test)\n",
    "    # processing\n",
    "    data = data.imputation()\n",
    "    data = data.encoding()\n",
    "    data = data.normalization()\n",
    "    # TMP reduce size\n",
    "    #data = data[:min(len(data), 200)]\n",
    "    return data"
   ]
  },
  {
   "cell_type": "code",
   "execution_count": 9,
   "metadata": {},
   "outputs": [],
   "source": [
    "def describe_dataset(data):\n",
    "    # TODO\n",
    "    # read data\n",
    "    pass\n",
    "    # cat/num\n",
    "    # descriptors\n",
    "    # PCA, TSNE, LDA, y dist"
   ]
  },
  {
   "cell_type": "code",
   "execution_count": 10,
   "metadata": {},
   "outputs": [],
   "source": [
    "def run_experiment(datasets_list, generators_list):\n",
    "    # Generate data and compute metrics\n",
    "    for dataset in datasets_list:\n",
    "        data = load_dataset(dataset)\n",
    "        print('\\n')\n",
    "        print(dataset)\n",
    "        print('=================================================')\n",
    "        describe_dataset(data)\n",
    "        \n",
    "        # to store results\n",
    "        names = ['Generator']\n",
    "        nnaas = ['NN AA']\n",
    "        discrepancies = ['NN AA (sklearn)']\n",
    "        discriminants1 = ['LogReg AA']\n",
    "        discriminants2 = ['MLP AA']\n",
    "        \n",
    "        for generator in generators_list:\n",
    "            # init generator\n",
    "            if generator is None:\n",
    "                generator = apd.generators.Copycat\n",
    "            generator = generator()\n",
    "            \n",
    "            names.append(generator.__class__.__name__)\n",
    "            \n",
    "            # training\n",
    "            generator.fit(data)\n",
    "            gen_data = generator.sample(n=data.shape[0])\n",
    "            \n",
    "            # TODO train/test\n",
    "            # metrics\n",
    "            nnaas.append(data.distance(gen_data, method='nnaa'))\n",
    "            discrepancies.append(data.distance(gen_data))\n",
    "            discriminants1.append(data.distance(gen_data, method='discriminant'))\n",
    "            mlp = MLPClassifier()\n",
    "            discriminants2.append(data.distance(gen_data, method='discriminant', model=mlp))\n",
    "            \n",
    "            # task score\n",
    "            # TODO\n",
    "            \n",
    "            # plots\n",
    "            # overlaying PCA and all\n",
    "            #data.compare_marginals(gen_data, method='all')\n",
    "            \n",
    "        # Store results into a table\n",
    "        results = np.array([names, nnaas, discrepancies, discriminants1, discriminants2]).T\n",
    "        results = apd.AutoData(results[1:,:], columns=results[0,:])\n",
    "        display(results)"
   ]
  },
  {
   "cell_type": "code",
   "execution_count": 12,
   "metadata": {
    "scrolled": false
   },
   "outputs": [
    {
     "name": "stdout",
     "output_type": "stream",
     "text": [
      "\n",
      "\n",
      "autopandas/data/iris.csv\n",
      "=================================================\n"
     ]
    },
    {
     "data": {
      "text/html": [
       "<div>\n",
       "<style scoped>\n",
       "    .dataframe tbody tr th:only-of-type {\n",
       "        vertical-align: middle;\n",
       "    }\n",
       "\n",
       "    .dataframe tbody tr th {\n",
       "        vertical-align: top;\n",
       "    }\n",
       "\n",
       "    .dataframe thead th {\n",
       "        text-align: right;\n",
       "    }\n",
       "</style>\n",
       "<table border=\"1\" class=\"dataframe\">\n",
       "  <thead>\n",
       "    <tr style=\"text-align: right;\">\n",
       "      <th></th>\n",
       "      <th>Generator</th>\n",
       "      <th>NN AA</th>\n",
       "      <th>NN AA (sklearn)</th>\n",
       "      <th>LogReg AA</th>\n",
       "      <th>MLP AA</th>\n",
       "    </tr>\n",
       "  </thead>\n",
       "  <tbody>\n",
       "    <tr>\n",
       "      <th>0</th>\n",
       "      <td>Copycat</td>\n",
       "      <td>0.0</td>\n",
       "      <td>0</td>\n",
       "      <td>0.5</td>\n",
       "      <td>0.5</td>\n",
       "    </tr>\n",
       "    <tr>\n",
       "      <th>1</th>\n",
       "      <td>KDE</td>\n",
       "      <td>0.5566666666666666</td>\n",
       "      <td>0.6866666666666665</td>\n",
       "      <td>0.5555555555555556</td>\n",
       "      <td>0.9222222222222223</td>\n",
       "    </tr>\n",
       "    <tr>\n",
       "      <th>2</th>\n",
       "      <td>ANM</td>\n",
       "      <td>0.5700000000000001</td>\n",
       "      <td>0.07333333333333325</td>\n",
       "      <td>0.5222222222222223</td>\n",
       "      <td>0.4888888888888889</td>\n",
       "    </tr>\n",
       "    <tr>\n",
       "      <th>3</th>\n",
       "      <td>Copula</td>\n",
       "      <td>0.6166666666666667</td>\n",
       "      <td>0.6000000000000001</td>\n",
       "      <td>0.4777777777777778</td>\n",
       "      <td>0.8333333333333334</td>\n",
       "    </tr>\n",
       "    <tr>\n",
       "      <th>4</th>\n",
       "      <td>GMM</td>\n",
       "      <td>0.7</td>\n",
       "      <td>0.5133333333333334</td>\n",
       "      <td>0.5333333333333333</td>\n",
       "      <td>0.6222222222222222</td>\n",
       "    </tr>\n",
       "  </tbody>\n",
       "</table>\n",
       "</div>"
      ],
      "text/plain": [
       "  Generator               NN AA      NN AA (sklearn)           LogReg AA  \\\n",
       "0   Copycat                 0.0                    0                 0.5   \n",
       "1       KDE  0.5566666666666666   0.6866666666666665  0.5555555555555556   \n",
       "2       ANM  0.5700000000000001  0.07333333333333325  0.5222222222222223   \n",
       "3    Copula  0.6166666666666667   0.6000000000000001  0.4777777777777778   \n",
       "4       GMM                 0.7   0.5133333333333334  0.5333333333333333   \n",
       "\n",
       "               MLP AA  \n",
       "0                 0.5  \n",
       "1  0.9222222222222223  \n",
       "2  0.4888888888888889  \n",
       "3  0.8333333333333334  \n",
       "4  0.6222222222222222  "
      ]
     },
     "metadata": {},
     "output_type": "display_data"
    }
   ],
   "source": [
    "path = 'autopandas/data/'\n",
    "datasets = [path+x for x in ['iris.csv', 'wine.csv']] #, 'diabetes.csv', 'seeds.csv', 'adult.csv',\n",
    "                             #'mushrooms.csv', 'wine.csv', 'squares.csv']]\n",
    "# train/test boston, titanic\n",
    "generators = [apd.generators.Copycat,\n",
    "              apd.generators.KDE,\n",
    "              apd.generators.ANM,\n",
    "              apd.generators.Copula,\n",
    "              apd.generators.GMM] # VAE, KDE, +\n",
    "\n",
    "run_experiment(datasets, generators)"
   ]
  },
  {
   "cell_type": "code",
   "execution_count": null,
   "metadata": {},
   "outputs": [],
   "source": []
  }
 ],
 "metadata": {
  "kernelspec": {
   "display_name": "Python 3",
   "language": "python",
   "name": "python3"
  },
  "language_info": {
   "codemirror_mode": {
    "name": "ipython",
    "version": 3
   },
   "file_extension": ".py",
   "mimetype": "text/x-python",
   "name": "python",
   "nbconvert_exporter": "python",
   "pygments_lexer": "ipython3",
   "version": "3.7.4"
  }
 },
 "nbformat": 4,
 "nbformat_minor": 2
}
